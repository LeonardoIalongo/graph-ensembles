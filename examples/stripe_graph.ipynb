{
 "cells": [
  {
   "cell_type": "code",
   "execution_count": 1,
   "metadata": {},
   "outputs": [],
   "source": [
    "import numpy as np\n",
    "from numba import jit\n",
    "import sys\n",
    "import matplotlib.pyplot as plt\n",
    "from scipy.optimize import least_squares, fsolve\n",
    "import networkx as nx\n",
    "import graph_ensembles.methods as ge\n",
    "\n",
    "%matplotlib inline"
   ]
  },
  {
   "cell_type": "markdown",
   "metadata": {},
   "source": [
    "# Auxiliary Functions"
   ]
  },
  {
   "cell_type": "code",
   "execution_count": 2,
   "metadata": {},
   "outputs": [],
   "source": [
    "def density_solver(p_fun, L, z0):\n",
    "    return least_squares(lambda x: p_fun(x) - L, z0, bounds = (0,np.inf))"
   ]
  },
  {
   "cell_type": "code",
   "execution_count": 3,
   "metadata": {},
   "outputs": [],
   "source": [
    "@jit(nopython=True)\n",
    "def nonzero_strengths(strenghts):\n",
    "    ind1,ind2 = strenghts.nonzero()\n",
    "    aux_strengths = []\n",
    "    for ii,jj in zip(ind1,ind2):\n",
    "        aux_strengths.append(strenghts[ii,jj])\n",
    "    return np.dstack((ind1,ind2,np.array(aux_strengths)))[0]"
   ]
  },
  {
   "cell_type": "code",
   "execution_count": 4,
   "metadata": {},
   "outputs": [],
   "source": [
    "@jit(nopython=True)\n",
    "def nonzero_strengths_block(strenghts, group_array):\n",
    "    ind1,ind2 = strenghts.nonzero()\n",
    "    aux_strengths = []\n",
    "    aux_sect = []\n",
    "    for ii,jj in zip(ind1,ind2):\n",
    "        aux_sect.append(group_array[ii])\n",
    "        aux_strengths.append(strenghts[ii,jj])\n",
    "    return np.dstack((ind1, np.array(aux_sect), ind2, np.array(aux_strengths)))[0]"
   ]
  },
  {
   "cell_type": "code",
   "execution_count": 5,
   "metadata": {},
   "outputs": [],
   "source": [
    "@jit(forceobj=True)\n",
    "def dict_sect_to_array(dict_sect):\n",
    "    \"\"\"\n",
    "    Function converting the dictionary mapping each node\n",
    "    to the corresponding sector into a numpy array where \n",
    "    the node label correspond to the array index.\n",
    "\n",
    "    Parameters\n",
    "    ----------\n",
    "    p: dict\n",
    "        a dictionary that given the index of a node returns its group\n",
    "    Returns\n",
    "    -------\n",
    "    np.ndarray\n",
    "        an array mapping each node to its group\n",
    "    \"\"\"\n",
    "    tmp_arr_sec = np.zeros(len(dict_sect.keys()),dtype=int)\n",
    "    for key in dict_sect.keys():\n",
    "        tmp_arr_sec[key] = dict_sect[key]\n",
    "    return tmp_arr_sec"
   ]
  },
  {
   "cell_type": "code",
   "execution_count": 6,
   "metadata": {},
   "outputs": [],
   "source": [
    "@jit(nopython=True)\n",
    "def weights_for_stripe(out_strength, group_array):\n",
    "    \"\"\"\n",
    "    Function computing the number of links going out\n",
    "    from each sector.\n",
    "    \n",
    "    Parameters\n",
    "    ----------\n",
    "    out_strength: np.ndarray\n",
    "        nonzero out strengths\n",
    "    group_dict: dict\n",
    "        a dictionary that given the index of a node returns its group\n",
    "    weighted: bool\n",
    "    Returns\n",
    "    -------\n",
    "    np.ndarray\n",
    "        an array where each entry i is the number of going out links \n",
    "        from sector i.\n",
    "    \"\"\"\n",
    "\n",
    "    sect = np.unique(group_array)\n",
    "    n_sect = sect.shape[0]\n",
    "    links_for_sect = np.zeros(n_sect)\n",
    "    for i in np.arange(out_strength.shape[0]):\n",
    "        sect_out = int(out_strength[i,1])\n",
    "        s_out = out_strength[i,2]\n",
    "        links_for_sect[sect_out] += s_out\n",
    "    return(links_for_sect)\n",
    "\n",
    "\n",
    "@jit(nopython=True)\n",
    "def weights_for_block(out_strength,group_array):\n",
    "    \"\"\"\n",
    "    Function computing the number of links going from\n",
    "    one sector i to sector j for every possible couple i-j.\n",
    "\n",
    "    Parameters\n",
    "    ----------\n",
    "    adj: np.ndarray\n",
    "        the binary adjacency matrix\n",
    "    group_dict: dict\n",
    "        a dictionary that given the index of a node returns its group\n",
    "    Returns\n",
    "    -------\n",
    "    np.ndarray\n",
    "        an array where each entry i,j is the number of links going\n",
    "        from sector i to sector j.\n",
    "    \"\"\"\n",
    "\n",
    "    sect = np.unique(group_array)\n",
    "    n_sect = sect.shape[0]\n",
    "    links_for_sect = np.zeros(shape=(n_sect,n_sect))\n",
    "    for i in np.arange(out_strength.shape[0]):\n",
    "        ind_out = int(out_strength[i,0])\n",
    "        sect_ind_out = int(out_strength[i,1])\n",
    "        sect_out = int(out_strength[i,2])\n",
    "        s_out = out_strength[i,3]\n",
    "        links_for_sect[sect_ind_out,sect_out] += s_out\n",
    "    return(links_for_sect)"
   ]
  },
  {
   "cell_type": "code",
   "execution_count": 7,
   "metadata": {},
   "outputs": [],
   "source": [
    "@jit(nopython=True)\n",
    "def links_for_stripe(adjacency, group_array):\n",
    "    \"\"\"\n",
    "    Function computing the number of links for stripe.\n",
    "    \"\"\"\n",
    "    sect = np.unique(group_array)\n",
    "    n_sect = sect.shape[0]\n",
    "    links_for_sect = np.zeros(n_sect)\n",
    "    ind1,ind2 = adjacency.nonzero()\n",
    "    for i, j in zip(ind1, ind2):\n",
    "        sect_i = int(group_array[i])\n",
    "        links_for_sect[sect_i] += 1\n",
    "    return links_for_sect\n",
    "    \n",
    "    \n",
    "@jit(nopython=True)\n",
    "def links_for_block(adjacency,group_array):\n",
    "    \"\"\"\n",
    "    Function computing the number of links for block.\n",
    "    \"\"\"\n",
    "    sect = np.unique(group_array)\n",
    "    n_sect = sect.shape[0]\n",
    "    links_for_sect = np.zeros(shape=(n_sect,n_sect))\n",
    "    ind1,ind2 = adjacency.nonzero()\n",
    "    for i, j in zip(ind1, ind2):\n",
    "        sect_i = int(group_array[i])\n",
    "        sect_j = int(group_array[j])\n",
    "        links_for_sect[sect_i,sect_j] += 1\n",
    "    return links_for_sect"
   ]
  },
  {
   "cell_type": "markdown",
   "metadata": {},
   "source": [
    "# Creating the Network"
   ]
  },
  {
   "cell_type": "code",
   "execution_count": 8,
   "metadata": {},
   "outputs": [],
   "source": [
    "# Generate toplogy\n",
    "hyp_dim = np.array([10,10,10,10,10])\n",
    "n_of_sector = len(hyp_dim)\n",
    "seed = 20\n",
    "p=0.3\n",
    "\n",
    "real_dim = []\n",
    "adj_sectors = []\n",
    "dim_list = [0]\n",
    "avg_out_degree_random = []\n",
    "\n",
    "for ii in range(n_of_sector):\n",
    "    G = nx.fast_gnp_random_graph(hyp_dim[ii],p=p,directed=True)\n",
    "    tmp_adj = nx.to_numpy_array(G)\n",
    "    avg_out_degree_random.append(np.mean(G.out_degree))\n",
    "    real_dim.append(tmp_adj.shape[0])\n",
    "    dim_list.append(dim_list[ii]+real_dim[ii])\n",
    "    adj_sectors.append(tmp_adj)\n",
    "    \n",
    "G = nx.fast_gnp_random_graph(n = np.sum(real_dim), p = 0.08, directed = True)\n",
    "adj_aux_random = nx.to_numpy_array(G)\n",
    "\n",
    "\n",
    "for ii in range(n_of_sector):\n",
    "    \n",
    "    adj_aux_random[dim_list[ii]:dim_list[ii+1]][:,dim_list[ii]:dim_list[ii+1]] = adj_sectors[ii]\n",
    "\n",
    "tmp_ind = np.where((np.sum(adj_aux_random,axis=1) + np.sum(adj_aux_random,axis=0))>0)[0]\n",
    "adj_aux_random = adj_aux_random[tmp_ind][:,tmp_ind]\n",
    "\n",
    "\n",
    "# Mapping nodes to sector\n",
    "dict_sectors = {}\n",
    "for ii in range(n_of_sector):\n",
    "    tmp = []\n",
    "    for jj in range(dim_list[ii],dim_list[ii+1]):\n",
    "        dict_sectors[jj] = ii\n",
    "\n",
    "# Converting the dictionary to array\n",
    "array_sectors = dict_sect_to_array(dict_sectors)\n",
    "        \n",
    "# Assigning Weights\n",
    "\n",
    "adj = adj_aux_random\n",
    "avg_degree = avg_out_degree_random\n",
    "\n",
    "k_out = adj.sum(axis=1)\n",
    "k_in = adj.sum(axis=0)\n",
    "adj_weight = np.zeros_like(adj)\n",
    "\n",
    "\n",
    "for ii in np.arange(adj.shape[0]):\n",
    "    for jj in np.arange(adj.shape[0]):\n",
    "        if ii!=jj:\n",
    "            if adj[ii,jj]!=0:\n",
    "                #adj_weight[ii,jj] = k_out[ii]*k_in[jj]\n",
    "                tmp = int(k_out[ii]*k_in[jj]/(avg_degree[dict_sectors[ii]]))\n",
    "                adj_weight[ii,jj] = np.random.uniform(low=np.min([5,tmp]),high=np.max([6,tmp]),size=1)"
   ]
  },
  {
   "cell_type": "markdown",
   "metadata": {},
   "source": [
    "# Preparing the input data"
   ]
  },
  {
   "cell_type": "markdown",
   "metadata": {},
   "source": [
    "### Strengths stripe"
   ]
  },
  {
   "cell_type": "code",
   "execution_count": 9,
   "metadata": {},
   "outputs": [],
   "source": [
    "strengths_in_stripe = np.zeros(shape=(adj.shape[0],n_of_sector))\n",
    "strengths_out_stripe = np.zeros(shape=(adj.shape[0],n_of_sector))\n",
    "\n",
    "for ii in np.arange(n_of_sector):\n",
    "    indices_1 = np.arange(dim_list[ii],dim_list[ii+1])\n",
    "    strengths_out_stripe[indices_1,ii] = (adj_weight[indices_1,:]).sum(axis=1)\n",
    "    for jj in np.arange(n_of_sector):\n",
    "        indices_2 = np.arange(dim_list[jj],dim_list[jj+1])\n",
    "        \n",
    "        strengths_in_stripe[indices_1,jj] = (adj_weight[indices_2][:,indices_1]).sum(axis=0)"
   ]
  },
  {
   "cell_type": "markdown",
   "metadata": {},
   "source": [
    "### Number of edges"
   ]
  },
  {
   "cell_type": "code",
   "execution_count": 10,
   "metadata": {},
   "outputs": [],
   "source": [
    "L_tot = adj.sum()"
   ]
  },
  {
   "cell_type": "markdown",
   "metadata": {},
   "source": [
    "### Nonzero Strengths"
   ]
  },
  {
   "cell_type": "code",
   "execution_count": 11,
   "metadata": {},
   "outputs": [],
   "source": [
    "nz_out_strenght_stripe = nonzero_strengths(strengths_out_stripe)\n",
    "nz_in_strenght_stripe = nonzero_strengths(strengths_in_stripe)"
   ]
  },
  {
   "cell_type": "markdown",
   "metadata": {},
   "source": [
    "# Applying Methods"
   ]
  },
  {
   "cell_type": "markdown",
   "metadata": {},
   "source": [
    "## Stripe Model one z"
   ]
  },
  {
   "cell_type": "code",
   "execution_count": 12,
   "metadata": {},
   "outputs": [
    {
     "name": "stdout",
     "output_type": "stream",
     "text": [
      "280 279.99999999999994\n"
     ]
    }
   ],
   "source": [
    "solution = density_solver(lambda x: ge.expected_links_stripe_one_z(\n",
    "                                    nz_out_strenght_stripe,\n",
    "                                    nz_in_strenght_stripe,\n",
    "                                    x),\n",
    "                                    L_tot,\n",
    "                                    0.000003)\n",
    "z_stripe_one = solution.x[0]\n",
    "P_matrix_stripe_one = ge.prob_array_stripe_one_z(\n",
    "                                    nz_out_strenght_stripe,\n",
    "                                    nz_in_strenght_stripe,\n",
    "                                    z_stripe_one,\n",
    "                                    adj.shape[0],\n",
    "                                    n_of_sector)\n",
    "print((adj>0).sum(),P_matrix_stripe_one.sum())"
   ]
  },
  {
   "cell_type": "code",
   "execution_count": null,
   "metadata": {},
   "outputs": [],
   "source": []
  },
  {
   "cell_type": "code",
   "execution_count": null,
   "metadata": {},
   "outputs": [],
   "source": []
  },
  {
   "cell_type": "code",
   "execution_count": null,
   "metadata": {},
   "outputs": [],
   "source": []
  },
  {
   "cell_type": "code",
   "execution_count": null,
   "metadata": {},
   "outputs": [],
   "source": []
  }
 ],
 "metadata": {
  "kernelspec": {
   "display_name": "Python 3",
   "language": "python",
   "name": "python3"
  },
  "language_info": {
   "codemirror_mode": {
    "name": "ipython",
    "version": 3
   },
   "file_extension": ".py",
   "mimetype": "text/x-python",
   "name": "python",
   "nbconvert_exporter": "python",
   "pygments_lexer": "ipython3",
   "version": "3.7.3"
  }
 },
 "nbformat": 4,
 "nbformat_minor": 4
}
