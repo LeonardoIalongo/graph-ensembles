{
 "cells": [
  {
   "cell_type": "code",
   "execution_count": 1,
   "metadata": {},
   "outputs": [],
   "source": [
    "import numpy as np\n",
    "from numba import jit\n",
    "import sys\n",
    "import matplotlib.pyplot as plt\n",
    "from scipy.optimize import least_squares, fsolve\n",
    "import networkx as nx\n",
    "import graph_ensembles.methods as ge\n",
    "import graph_ensembles.iterative_models as gei\n",
    "import time\n",
    "\n",
    "%matplotlib inline"
   ]
  },
  {
   "cell_type": "markdown",
   "metadata": {},
   "source": [
    "# Auxiliary Functions"
   ]
  },
  {
   "cell_type": "code",
   "execution_count": 2,
   "metadata": {},
   "outputs": [],
   "source": [
    "def density_solver(p_fun, L, z0):\n",
    "    return least_squares(lambda x: p_fun(x) - L, z0, bounds = (0,np.inf))"
   ]
  },
  {
   "cell_type": "code",
   "execution_count": 3,
   "metadata": {},
   "outputs": [],
   "source": [
    "@jit(nopython=True)\n",
    "def nonzero_strengths(strenghts):\n",
    "    ind1,ind2 = strenghts.nonzero()\n",
    "    aux_strengths = []\n",
    "    for ii,jj in zip(ind1,ind2):\n",
    "        aux_strengths.append(strenghts[ii,jj])\n",
    "    return np.dstack((ind1,ind2,np.array(aux_strengths)))[0]"
   ]
  },
  {
   "cell_type": "code",
   "execution_count": 4,
   "metadata": {},
   "outputs": [],
   "source": [
    "@jit(nopython=True)\n",
    "def nonzero_strengths_block(strenghts, group_array):\n",
    "    ind1,ind2 = strenghts.nonzero()\n",
    "    aux_strengths = []\n",
    "    aux_sect = []\n",
    "    for ii,jj in zip(ind1,ind2):\n",
    "        aux_sect.append(group_array[ii])\n",
    "        aux_strengths.append(strenghts[ii,jj])\n",
    "    return np.dstack((ind1, np.array(aux_sect), ind2, np.array(aux_strengths)))[0]"
   ]
  },
  {
   "cell_type": "code",
   "execution_count": 5,
   "metadata": {},
   "outputs": [],
   "source": [
    "@jit(forceobj=True)\n",
    "def dict_sect_to_array(dict_sect):\n",
    "    \"\"\"\n",
    "    Function converting the dictionary mapping each node\n",
    "    to the corresponding sector into a numpy array where \n",
    "    the node label correspond to the array index.\n",
    "\n",
    "    Parameters\n",
    "    ----------\n",
    "    p: dict\n",
    "        a dictionary that given the index of a node returns its group\n",
    "    Returns\n",
    "    -------\n",
    "    np.ndarray\n",
    "        an array mapping each node to its group\n",
    "    \"\"\"\n",
    "    tmp_arr_sec = np.zeros(len(dict_sect.keys()),dtype=int)\n",
    "    for key in dict_sect.keys():\n",
    "        tmp_arr_sec[key] = dict_sect[key]\n",
    "    return tmp_arr_sec"
   ]
  },
  {
   "cell_type": "code",
   "execution_count": 6,
   "metadata": {},
   "outputs": [],
   "source": [
    "@jit(nopython=True)\n",
    "def weights_for_stripe(out_strength, group_array):\n",
    "    \"\"\"\n",
    "    Function computing the number of links going out\n",
    "    from each sector.\n",
    "    \n",
    "    Parameters\n",
    "    ----------\n",
    "    out_strength: np.ndarray\n",
    "        nonzero out strengths\n",
    "    group_dict: dict\n",
    "        a dictionary that given the index of a node returns its group\n",
    "    weighted: bool\n",
    "    Returns\n",
    "    -------\n",
    "    np.ndarray\n",
    "        an array where each entry i is the number of going out links \n",
    "        from sector i.\n",
    "    \"\"\"\n",
    "\n",
    "    sect = np.unique(group_array)\n",
    "    n_sect = sect.shape[0]\n",
    "    links_for_sect = np.zeros(n_sect)\n",
    "    for i in np.arange(out_strength.shape[0]):\n",
    "        sect_out = int(out_strength[i,1])\n",
    "        s_out = out_strength[i,2]\n",
    "        links_for_sect[sect_out] += s_out\n",
    "    return(links_for_sect)\n",
    "\n",
    "\n",
    "@jit(nopython=True)\n",
    "def weights_for_block(out_strength,group_array):\n",
    "    \"\"\"\n",
    "    Function computing the number of links going from\n",
    "    one sector i to sector j for every possible couple i-j.\n",
    "\n",
    "    Parameters\n",
    "    ----------\n",
    "    adj: np.ndarray\n",
    "        the binary adjacency matrix\n",
    "    group_dict: dict\n",
    "        a dictionary that given the index of a node returns its group\n",
    "    Returns\n",
    "    -------\n",
    "    np.ndarray\n",
    "        an array where each entry i,j is the number of links going\n",
    "        from sector i to sector j.\n",
    "    \"\"\"\n",
    "\n",
    "    sect = np.unique(group_array)\n",
    "    n_sect = sect.shape[0]\n",
    "    links_for_sect = np.zeros(shape=(n_sect,n_sect))\n",
    "    for i in np.arange(out_strength.shape[0]):\n",
    "        ind_out = int(out_strength[i,0])\n",
    "        sect_ind_out = int(out_strength[i,1])\n",
    "        sect_out = int(out_strength[i,2])\n",
    "        s_out = out_strength[i,3]\n",
    "        links_for_sect[sect_ind_out,sect_out] += s_out\n",
    "    return(links_for_sect)"
   ]
  },
  {
   "cell_type": "code",
   "execution_count": 7,
   "metadata": {},
   "outputs": [],
   "source": [
    "@jit(nopython=True)\n",
    "def links_for_stripe(adjacency, group_array):\n",
    "    \"\"\"\n",
    "    Function computing the number of links for stripe.\n",
    "    \"\"\"\n",
    "    sect = np.unique(group_array)\n",
    "    n_sect = sect.shape[0]\n",
    "    links_for_sect = np.zeros(n_sect)\n",
    "    ind1,ind2 = adjacency.nonzero()\n",
    "    for i, j in zip(ind1, ind2):\n",
    "        sect_i = int(group_array[i])\n",
    "        links_for_sect[sect_i] += 1\n",
    "    return links_for_sect\n",
    "    \n",
    "    \n",
    "@jit(nopython=True)\n",
    "def links_for_block(adjacency,group_array):\n",
    "    \"\"\"\n",
    "    Function computing the number of links for block.\n",
    "    \"\"\"\n",
    "    sect = np.unique(group_array)\n",
    "    n_sect = sect.shape[0]\n",
    "    links_for_sect = np.zeros(shape=(n_sect,n_sect))\n",
    "    ind1,ind2 = adjacency.nonzero()\n",
    "    for i, j in zip(ind1, ind2):\n",
    "        sect_i = int(group_array[i])\n",
    "        sect_j = int(group_array[j])\n",
    "        links_for_sect[sect_i,sect_j] += 1\n",
    "    return links_for_sect"
   ]
  },
  {
   "cell_type": "code",
   "execution_count": 8,
   "metadata": {},
   "outputs": [],
   "source": [
    "@jit(nopython=True)\n",
    "def strengths_stripe_organised(adj_weighted, array_sectors):\n",
    "    n_sectors = np.unique(array_sectors).shape[0]\n",
    "    n_nodes = adj_weighted.shape[0]\n",
    "    out_strengths = np.zeros(shape=(n_nodes,\n",
    "                                    n_sectors))\n",
    "    in_strengths = np.zeros(shape=(n_nodes,\n",
    "                                   n_sectors))\n",
    "    \n",
    "    for i in np.arange(n_nodes):\n",
    "        out_strengths[i,array_sectors[i]] += adj_weighted[i,:].sum()\n",
    "        for j in np.arange(n_nodes):\n",
    "            if adj_weighted[i,j]:\n",
    "                in_strengths[j,array_sectors[i]] += adj_weighted[i,j]\n",
    "    return out_strengths, in_strengths"
   ]
  },
  {
   "cell_type": "markdown",
   "metadata": {},
   "source": [
    "# Creating the Network"
   ]
  },
  {
   "cell_type": "code",
   "execution_count": 9,
   "metadata": {},
   "outputs": [],
   "source": [
    "# Generate toplogy\n",
    "hyp_dim = np.array([50,30,40,20,70])\n",
    "n_of_sector = len(hyp_dim)\n",
    "seed = 20\n",
    "p=0.3\n",
    "\n",
    "real_dim = []\n",
    "adj_sectors = []\n",
    "dim_list = [0]\n",
    "avg_out_degree_random = []\n",
    "\n",
    "for ii in range(n_of_sector):\n",
    "    G = nx.fast_gnp_random_graph(hyp_dim[ii],p=p,directed=True)\n",
    "    tmp_adj = nx.to_numpy_array(G)\n",
    "    avg_out_degree_random.append(np.mean(G.out_degree))\n",
    "    real_dim.append(tmp_adj.shape[0])\n",
    "    dim_list.append(dim_list[ii]+real_dim[ii])\n",
    "    adj_sectors.append(tmp_adj)\n",
    "    \n",
    "G = nx.fast_gnp_random_graph(n = np.sum(real_dim), p = 0.08, directed = True)\n",
    "adj_aux_random = nx.to_numpy_array(G)\n",
    "\n",
    "\n",
    "for ii in range(n_of_sector):\n",
    "    \n",
    "    adj_aux_random[dim_list[ii]:dim_list[ii+1]][:,dim_list[ii]:dim_list[ii+1]] = adj_sectors[ii]\n",
    "\n",
    "tmp_ind = np.where((np.sum(adj_aux_random,axis=1) + np.sum(adj_aux_random,axis=0))>0)[0]\n",
    "adj_aux_random = adj_aux_random[tmp_ind][:,tmp_ind]\n",
    "\n",
    "\n",
    "# Mapping nodes to sector\n",
    "dict_sectors = {}\n",
    "for ii in range(n_of_sector):\n",
    "    tmp = []\n",
    "    for jj in range(dim_list[ii],dim_list[ii+1]):\n",
    "        dict_sectors[jj] = ii\n",
    "\n",
    "# Converting the dictionary to array\n",
    "array_sectors = dict_sect_to_array(dict_sectors)\n",
    "        \n",
    "# Assigning Weights\n",
    "\n",
    "adj = adj_aux_random\n",
    "avg_degree = avg_out_degree_random\n",
    "\n",
    "k_out = adj.sum(axis=1)\n",
    "k_in = adj.sum(axis=0)\n",
    "adj_weight = np.zeros_like(adj)\n",
    "\n",
    "\n",
    "for ii in np.arange(adj.shape[0]):\n",
    "    for jj in np.arange(adj.shape[0]):\n",
    "        if ii!=jj:\n",
    "            if adj[ii,jj]!=0:\n",
    "                #adj_weight[ii,jj] = k_out[ii]*k_in[jj]\n",
    "                tmp = int(k_out[ii]*k_in[jj]/(avg_degree[dict_sectors[ii]]))\n",
    "                adj_weight[ii,jj] = np.random.uniform(low=np.min([5,tmp]),high=np.max([6,tmp]),size=1)"
   ]
  },
  {
   "cell_type": "markdown",
   "metadata": {},
   "source": [
    "# Preparing the input data"
   ]
  },
  {
   "cell_type": "markdown",
   "metadata": {},
   "source": [
    "### Strengths stripe"
   ]
  },
  {
   "cell_type": "code",
   "execution_count": 10,
   "metadata": {},
   "outputs": [],
   "source": [
    "strengths_out_stripe, strengths_in_stripe = strengths_stripe_organised(adj_weighted = adj_weight, array_sectors = array_sectors)"
   ]
  },
  {
   "cell_type": "markdown",
   "metadata": {},
   "source": [
    "### Number of edges"
   ]
  },
  {
   "cell_type": "code",
   "execution_count": 11,
   "metadata": {},
   "outputs": [],
   "source": [
    "L_tot = adj.sum()"
   ]
  },
  {
   "cell_type": "markdown",
   "metadata": {},
   "source": [
    "### Nonzero Strengths"
   ]
  },
  {
   "cell_type": "code",
   "execution_count": 12,
   "metadata": {},
   "outputs": [],
   "source": [
    "nz_out_strenght_stripe = nonzero_strengths(strengths_out_stripe)\n",
    "nz_in_strenght_stripe = nonzero_strengths(strengths_in_stripe)"
   ]
  },
  {
   "cell_type": "markdown",
   "metadata": {},
   "source": [
    "### Strengths for stripe"
   ]
  },
  {
   "cell_type": "code",
   "execution_count": 13,
   "metadata": {},
   "outputs": [],
   "source": [
    "strengths_for_stripe = weights_for_stripe(nz_out_strenght_stripe, array_sectors)"
   ]
  },
  {
   "cell_type": "markdown",
   "metadata": {},
   "source": [
    "# Applying Methods"
   ]
  },
  {
   "cell_type": "markdown",
   "metadata": {},
   "source": [
    "## Stripe Model one z"
   ]
  },
  {
   "cell_type": "code",
   "execution_count": 14,
   "metadata": {},
   "outputs": [
    {
     "name": "stdout",
     "output_type": "stream",
     "text": [
      "5838 5837.999999992745\n"
     ]
    }
   ],
   "source": [
    "time_1 = time.time()\n",
    "solution = density_solver(lambda x: ge.expected_links_stripe_one_z(\n",
    "                                    nz_out_strenght_stripe,\n",
    "                                    nz_in_strenght_stripe,\n",
    "                                    x),\n",
    "                                    L_tot,\n",
    "                                    0.000003)\n",
    "z_stripe_one = solution.x[0]\n",
    "time_2 = time.time()\n",
    "time_old = time_2 - time_1\n",
    "P_matrix_stripe_one = ge.prob_array_stripe_one_z(\n",
    "                                    nz_out_strenght_stripe,\n",
    "                                    nz_in_strenght_stripe,\n",
    "                                    z_stripe_one,\n",
    "                                    adj.shape[0],\n",
    "                                    n_of_sector)\n",
    "print((adj>0).sum(),P_matrix_stripe_one.sum())"
   ]
  },
  {
   "cell_type": "markdown",
   "metadata": {},
   "source": [
    "## Assigning Weights"
   ]
  },
  {
   "cell_type": "code",
   "execution_count": 15,
   "metadata": {},
   "outputs": [
    {
     "name": "stdout",
     "output_type": "stream",
     "text": [
      "144406.9361949907 142880.7130860102\n"
     ]
    }
   ],
   "source": [
    "W_exp = ge.assign_weights_cimi_stripe_one_z(P_matrix_stripe_one.sum(axis=2),\n",
    "                                            nz_out_strenght_stripe,\n",
    "                                            nz_in_strenght_stripe,\n",
    "                                            adj.shape[0],\n",
    "                                            strengths_for_stripe,\n",
    "                                           )\n",
    "print(adj_weight.sum(), W_exp.sum())"
   ]
  },
  {
   "cell_type": "markdown",
   "metadata": {},
   "source": [
    "# Expected and observed Quantities "
   ]
  },
  {
   "cell_type": "code",
   "execution_count": 16,
   "metadata": {},
   "outputs": [],
   "source": [
    "exp_s_out = W_exp.sum(axis = 1)\n",
    "exp_s_in = W_exp.sum(axis = 0)\n",
    "\n",
    "s_out = adj_weight.sum(axis = 1)\n",
    "s_in = adj_weight.sum(axis = 0)"
   ]
  },
  {
   "cell_type": "code",
   "execution_count": 17,
   "metadata": {},
   "outputs": [],
   "source": [
    "exp_strengths_out_stripe, exp_strengths_in_stripe = strengths_stripe_organised(adj_weighted = W_exp,\n",
    "                                                                               array_sectors = array_sectors)"
   ]
  },
  {
   "cell_type": "code",
   "execution_count": 18,
   "metadata": {},
   "outputs": [],
   "source": [
    "exp_strengths_for_stripe = weights_for_stripe(nonzero_strengths(exp_strengths_out_stripe), array_sectors)"
   ]
  },
  {
   "cell_type": "markdown",
   "metadata": {},
   "source": [
    "## Plots"
   ]
  },
  {
   "cell_type": "markdown",
   "metadata": {},
   "source": [
    "### $s_{out}$ vs $\\langle s_{out} \\rangle$"
   ]
  },
  {
   "cell_type": "code",
   "execution_count": 19,
   "metadata": {},
   "outputs": [
    {
     "data": {
      "image/png": "[encoded data removed]",
      "text/plain": [
       "<Figure size 432x432 with 1 Axes>"
      ]
     },
     "metadata": {
      "needs_background": "light"
     },
     "output_type": "display_data"
    }
   ],
   "source": [
    "plt.figure(figsize=(6,6))\n",
    "xy_1 = (np.min(s_out), np.max(s_out))\n",
    "plt.plot(exp_s_out, s_out, marker = 'o', markersize=4, color='blue', ls='None' )\n",
    "plt.plot(xy_1, xy_1, ls='--', color='black', lw=1)\n",
    "plt.xlabel(r'$\\langle s_{out} \\rangle$', fontsize=16)\n",
    "plt.ylabel(r'$s_{out}$', fontsize=16)\n",
    "plt.show()"
   ]
  },
  {
   "cell_type": "markdown",
   "metadata": {},
   "source": [
    "### $s_{in}$ vs $\\langle s_{in} \\rangle$"
   ]
  },
  {
   "cell_type": "code",
   "execution_count": 20,
   "metadata": {},
   "outputs": [
    {
     "data": {
      "image/png": "[encoded data removed]",
      "text/plain": [
       "<Figure size 432x432 with 1 Axes>"
      ]
     },
     "metadata": {
      "needs_background": "light"
     },
     "output_type": "display_data"
    }
   ],
   "source": [
    "plt.figure(figsize=(6,6))\n",
    "xy_1 = (np.min(s_in), np.max(s_in))\n",
    "plt.plot(exp_s_in, s_in, marker = 'o', markersize=4, color='blue', ls='None' )\n",
    "plt.plot(xy_1, xy_1, ls='--', color='black', lw=1)\n",
    "plt.xlabel(r'$\\langle s_{in} \\rangle$', fontsize=16)\n",
    "plt.ylabel(r'$s_{in}$', fontsize=16)\n",
    "plt.show()"
   ]
  },
  {
   "cell_type": "markdown",
   "metadata": {},
   "source": [
    "### $s_{g_i \\rightarrow j}$ vs $\\langle s_{g_i \\rightarrow j} \\rangle$"
   ]
  },
  {
   "cell_type": "code",
   "execution_count": 21,
   "metadata": {},
   "outputs": [
    {
     "data": {
      "image/png": "[encoded data removed]",
      "text/plain": [
       "<Figure size 432x432 with 1 Axes>"
      ]
     },
     "metadata": {
      "needs_background": "light"
     },
     "output_type": "display_data"
    }
   ],
   "source": [
    "plt.figure(figsize=(6,6))\n",
    "xy_1 = (np.min(np.reshape(strengths_in_stripe, -1)),\n",
    "        np.max(np.reshape(strengths_in_stripe, -1)))\n",
    "xy_2 = (np.min(np.reshape(strengths_in_stripe, -1)),\n",
    "        np.max(np.reshape(strengths_in_stripe, -1)))\n",
    "plt.plot(np.reshape(exp_strengths_in_stripe, -1), np.reshape(strengths_in_stripe, -1),\n",
    "         marker = 'o', markersize=4, color='blue', ls='None' )\n",
    "plt.plot(xy_1, xy_2, ls='--', color='black', lw=1)\n",
    "plt.xlabel(r'$\\langle s_{g_i \\rightarrow j} \\rangle$', fontsize=16)\n",
    "plt.ylabel(r'$s_{g_i \\rightarrow j}$', fontsize=16)\n",
    "plt.show()"
   ]
  },
  {
   "cell_type": "markdown",
   "metadata": {},
   "source": [
    "### $s_{g_{i}}^{out}$ vs $\\langle s_{g_{i}}^{out} \\rangle$"
   ]
  },
  {
   "cell_type": "code",
   "execution_count": 22,
   "metadata": {},
   "outputs": [
    {
     "data": {
      "image/png": "[encoded data removed]",
      "text/plain": [
       "<Figure size 432x432 with 1 Axes>"
      ]
     },
     "metadata": {
      "needs_background": "light"
     },
     "output_type": "display_data"
    }
   ],
   "source": [
    "plt.figure(figsize=(6,6))\n",
    "xy_1 = (np.min(strengths_for_stripe), np.max(strengths_for_stripe))\n",
    "xy_2 = (np.min(strengths_for_stripe), np.max(strengths_for_stripe))\n",
    "plt.plot(exp_strengths_for_stripe, strengths_for_stripe, marker = 'o', markersize=4, color='blue', ls='None' )\n",
    "plt.plot(xy_1, xy_2, ls='--', color='black', lw=1)\n",
    "plt.xlabel(r'$\\langle s_{g_{i}}^{out} \\rangle$', fontsize=16)\n",
    "plt.ylabel(r'$s_{g_{i}}^{out}$', fontsize=16)\n",
    "plt.show()"
   ]
  },
  {
   "cell_type": "markdown",
   "metadata": {},
   "source": [
    "# Iterative Methods"
   ]
  },
  {
   "cell_type": "code",
   "execution_count": 23,
   "metadata": {},
   "outputs": [],
   "source": [
    "time_3 = time.time()\n",
    "sol = gei.iterative_fit(z0=1.0, model='CSM-I', method='fixed-point',\n",
    "                        nz_out_str = nz_out_strenght_stripe,\n",
    "                        nz_in_str = nz_in_strenght_stripe,\n",
    "                        L = L_tot, tol = 10e-10,\n",
    "                        eps = 10e-14, max_steps=100\n",
    "                        )\n",
    "time_4 = time.time()\n",
    "time_iter = time_4 - time_3\n",
    "z_stripe_iter = sol[0]\n",
    "steps = sol[1]"
   ]
  },
  {
   "cell_type": "code",
   "execution_count": 24,
   "metadata": {},
   "outputs": [],
   "source": [
    "time_5 = time.time()\n",
    "sol = gei.iterative_fit(z0=1.0, model='CSM-I', method='newton',\n",
    "                        nz_out_str = nz_out_strenght_stripe,\n",
    "                        nz_in_str = nz_in_strenght_stripe,\n",
    "                        L = L_tot, tol = 10e-10,\n",
    "                        eps = 10e-14, max_steps=100\n",
    "                        )\n",
    "time_6 = time.time()\n",
    "time_newton = time_6 - time_5\n",
    "z_stripe_newton = sol[0]\n",
    "steps_newton = sol[1]"
   ]
  },
  {
   "cell_type": "code",
   "execution_count": 25,
   "metadata": {},
   "outputs": [
    {
     "name": "stdout",
     "output_type": "stream",
     "text": [
      "6.97876501083374 0.26056790351867676 0.6491661071777344 19 7\n"
     ]
    }
   ],
   "source": [
    "print(time_old, time_iter, time_newton, steps, steps_newton)"
   ]
  },
  {
   "cell_type": "code",
   "execution_count": 26,
   "metadata": {},
   "outputs": [
    {
     "name": "stdout",
     "output_type": "stream",
     "text": [
      "5838 5838.000056606769\n"
     ]
    }
   ],
   "source": [
    "P_matrix_stripe_one_iter = ge.prob_array_stripe_one_z(\n",
    "                                    nz_out_strenght_stripe,\n",
    "                                    nz_in_strenght_stripe,\n",
    "                                    z_stripe_iter,\n",
    "                                    adj.shape[0],\n",
    "                                    n_of_sector)\n",
    "print((adj>0).sum(),P_matrix_stripe_one_iter.sum())"
   ]
  },
  {
   "cell_type": "code",
   "execution_count": null,
   "metadata": {},
   "outputs": [],
   "source": []
  },
  {
   "cell_type": "code",
   "execution_count": null,
   "metadata": {},
   "outputs": [],
   "source": []
  },
  {
   "cell_type": "code",
   "execution_count": null,
   "metadata": {},
   "outputs": [],
   "source": []
  }
 ],
 "metadata": {
  "kernelspec": {
   "display_name": "Python 3",
   "language": "python",
   "name": "python3"
  },
  "language_info": {
   "codemirror_mode": {
    "name": "ipython",
    "version": 3
   },
   "file_extension": ".py",
   "mimetype": "text/x-python",
   "name": "python",
   "nbconvert_exporter": "python",
   "pygments_lexer": "ipython3",
   "version": "3.8.7"
  }
 },
 "nbformat": 4,
 "nbformat_minor": 4
}
